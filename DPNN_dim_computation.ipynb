{
 "cells": [
  {
   "cell_type": "code",
   "execution_count": 1,
   "id": "48022709-9091-4985-811c-eec044423b1d",
   "metadata": {},
   "outputs": [],
   "source": [
    "# This program computes the dimension of the image of the weight map \n",
    "# for DPNN (deep polynomial nerual network) network p with an architecture (d, sigma) \n",
    "# where d = (d0, d1, d2, ..., dL) and sigma is a monomial activation function. \n",
    "#\n",
    "# The output of the network is given as a dL-tuple of homogeneous polynomials Pi\n",
    "# The parameter map Psi is given as the map from all the space of all weights w_lij\n",
    "# to a product of symmetric space given as (P1, P2, ..., PdL).\n",
    "# where l is the indexing for W_l and ij is the element indexing in W_l\n",
    "# \n",
    "# We compute dim(im(Psi)) as a rank of Jacobian(Psi) with a coefficients in \n",
    "# a finite field GF(prime) (or rational one)"
   ]
  },
  {
   "cell_type": "code",
   "execution_count": 4,
   "id": "c5b44054-e5af-4555-83fb-fc37e42a2b40",
   "metadata": {},
   "outputs": [],
   "source": [
    "# Import libraries\n",
    "from sage.all import *\n",
    "from itertools import chain"
   ]
  },
  {
   "cell_type": "code",
   "execution_count": 11,
   "id": "7294dd69-75b7-4eeb-b9d5-96baa35f0ffa",
   "metadata": {},
   "outputs": [],
   "source": [
    "# Define the architecture\n",
    "prime = 100271\n",
    "\n",
    "# Dimensions of RNN layers\n",
    "d = [3, 2, 1]\n",
    "\n",
    "# Define the field\n",
    "#field_k = QQ\n",
    "field_k = GF(prime)\n",
    "\n",
    "# Define the neural network p\n",
    "ww_vars = []\n",
    "for k in range(len(d)-1):\n",
    "    ww_k = matrix(d[k+1], d[k], lambda i,j: var('w_{}{}{}'.format(k+1,i+1,j+1))).list() \n",
    "    ww_vars += ww_k \n",
    "xx_vars = [var('x_{}'.format(i)) for i in range(d[0])]\n",
    "C = PolynomialRing(field_k, ww_vars)\n",
    "FF = PolynomialRing(C, xx_vars)\n",
    "\n",
    "ww = C.gens()\n",
    "xx = FF.gens()"
   ]
  },
  {
   "cell_type": "code",
   "execution_count": 12,
   "id": "e5f6126e-af6f-4735-bc15-f8bbcb1108e8",
   "metadata": {
    "scrolled": true
   },
   "outputs": [
    {
     "name": "stdout",
     "output_type": "stream",
     "text": [
      "W_1:\n",
      "[w_111 w_112 w_113]\n",
      "[w_121 w_122 w_123]\n",
      "\n",
      "W_2:\n",
      "[w_211 w_212]\n",
      "\n"
     ]
    },
    {
     "data": {
      "text/plain": [
       "[(w_111^2*w_211 + w_121^2*w_212)*x_0^2 + (2*w_111*w_112*w_211 + 2*w_121*w_122*w_212)*x_0*x_1 + (w_112^2*w_211 + w_122^2*w_212)*x_1^2 + (2*w_111*w_113*w_211 + 2*w_121*w_123*w_212)*x_0*x_2 + (2*w_112*w_113*w_211 + 2*w_122*w_123*w_212)*x_1*x_2 + (w_113^2*w_211 + w_123^2*w_212)*x_2^2]"
      ]
     },
     "execution_count": 12,
     "metadata": {},
     "output_type": "execute_result"
    }
   ],
   "source": [
    "# Perform feedforward pass through \n",
    "\n",
    "# Index that controls the choice of parameters for Wi\n",
    "shift = 0\n",
    "\n",
    "# Compute the feedforward of RNN\n",
    "sigma_Wi_x = Matrix(xx).transpose() # input vector\n",
    "\n",
    "for i in range(len(d)-1):\n",
    "    Wi = matrix(FF, d[i+1], (ww[i+shift] for i in range(d[i]*d[i+1])))\n",
    "    print(f\"W_{i+1}:\\n{Wi}\")\n",
    "    print()\n",
    "    shift += d[i]*d[i+1]\n",
    "\n",
    "    Wi_x = Wi*sigma_Wi_x\n",
    "    sigma_Wi_x = Wi_x.apply_map(lambda u: u^2) # apply an activation function sigma\n",
    "\n",
    "p = Wi_x\n",
    "p # print the neural network output"
   ]
  },
  {
   "cell_type": "code",
   "execution_count": 13,
   "id": "a56ef7c9-aae3-47ba-a3a5-f387dd3f6489",
   "metadata": {},
   "outputs": [],
   "source": [
    "# Obtain the coefficients for numerator in Pi\n",
    "coefficients = []\n",
    "\n",
    "for i in range(d[-1]):\n",
    "    # get the numerator \n",
    "    p_top = p[i][0]\n",
    "    f_top = p_top.coefficients()\n",
    "    coefficients.append(f_top)"
   ]
  },
  {
   "cell_type": "code",
   "execution_count": 14,
   "id": "d6869ed1-7972-43c8-bb3e-8e42c8ecd5a5",
   "metadata": {},
   "outputs": [],
   "source": [
    "# Combine all coefficients to get the parameter map f = (P1, P2, ..., PdL)\n",
    "Psi = vector([])\n",
    "for i in range(len(coefficients)): # count total diagonal dimension\n",
    "    Psi = vector(chain(Psi,coefficients[i]))\n",
    "#Psi # Print the parameter map"
   ]
  },
  {
   "cell_type": "code",
   "execution_count": 15,
   "id": "62fac880-ded0-4a43-93d5-900952ec3ee3",
   "metadata": {
    "scrolled": true
   },
   "outputs": [
    {
     "name": "stdout",
     "output_type": "stream",
     "text": [
      "(rank,dim) = (5, 6)\n"
     ]
    }
   ],
   "source": [
    "# Compute the dimensions of the image f and all f_i where f_i is f restricted to Pi\n",
    "# first row  - dimension\n",
    "# second row - ambient dimension\n",
    "v = random_vector(field_k, len(ww))\n",
    "J = jacobian(Psi, ww)\n",
    "J_num = J(list(v)) # numerical value of the Jacobian\n",
    "print(f\"(rank,dim) = {rank(J_num), J.nrows()}\")"
   ]
  },
  {
   "cell_type": "code",
   "execution_count": 16,
   "id": "0ba14408-57b3-4b63-a428-bbf7f0487338",
   "metadata": {},
   "outputs": [
    {
     "name": "stdout",
     "output_type": "stream",
     "text": [
      "(rank,dim) = (5, 6)\n"
     ]
    }
   ],
   "source": [
    "# Compute the dimension of the weight map f restricted to P_i\n",
    "for i in range(len(coefficients)):\n",
    "    J = jacobian(coefficients[i], ww)\n",
    "    J_num = J(list(v)) # numerical value of the Jacobian\n",
    "    print(f\"(rank,dim) = {rank(J_num), J.nrows()}\")"
   ]
  }
 ],
 "metadata": {
  "kernelspec": {
   "display_name": "SageMath 10.4",
   "language": "sage",
   "name": "sagemath-10.4"
  },
  "language_info": {
   "codemirror_mode": {
    "name": "ipython",
    "version": 3
   },
   "file_extension": ".py",
   "mimetype": "text/x-python",
   "name": "python",
   "nbconvert_exporter": "python",
   "pygments_lexer": "ipython3",
   "version": "3.12.4"
  }
 },
 "nbformat": 4,
 "nbformat_minor": 5
}
